{
 "cells": [
  {
   "cell_type": "code",
   "execution_count": 1,
   "id": "9953bd8c",
   "metadata": {},
   "outputs": [
    {
     "name": "stdout",
     "output_type": "stream",
     "text": [
      "The history saving thread hit an unexpected error (DatabaseError('database disk image is malformed')).History will not be written to the database.\n"
     ]
    }
   ],
   "source": [
    "import mlrun"
   ]
  },
  {
   "cell_type": "markdown",
   "id": "005bcd92",
   "metadata": {},
   "source": [
    "Load a Project from exicting project YAML, you can clone you entire repository from git and use the project YAML in your repository using the url parameter"
   ]
  },
  {
   "cell_type": "code",
   "execution_count": 2,
   "id": "bd5d1390",
   "metadata": {},
   "outputs": [],
   "source": [
    "project = mlrun.load_project('./')"
   ]
  },
  {
   "cell_type": "code",
   "execution_count": 3,
   "id": "af0ac17d",
   "metadata": {},
   "outputs": [
    {
     "name": "stdout",
     "output_type": "stream",
     "text": [
      "kind: project\n",
      "metadata:\n",
      "  name: from-git\n",
      "spec:\n",
      "  functions:\n",
      "  - name: nuclio\n",
      "    kind: nuclio\n",
      "    image: mlrun/mlrun\n",
      "    handler: multi:multi_3\n",
      "    with_repo: true\n",
      "  - name: my_job\n",
      "    kind: job\n",
      "    image: mlrun/mlrun\n",
      "    handler: my_job.func\n",
      "    with_repo: true\n",
      "  - url: serving.yaml\n",
      "    name: serving\n",
      "    with_repo: true\n",
      "  workflows: []\n",
      "  artifacts: []\n",
      "  source: git://github.com/GiladShapira94/load-project-example.git\n",
      "  load_source_on_run: true\n",
      "  desired_state: online\n",
      "\n"
     ]
    }
   ],
   "source": [
    "print(project.to_yaml())"
   ]
  },
  {
   "cell_type": "code",
   "execution_count": 4,
   "id": "0f20851e",
   "metadata": {},
   "outputs": [],
   "source": [
    "source = 'git://github.com/GiladShapira94/load-project-example.git#master'"
   ]
  },
  {
   "cell_type": "code",
   "execution_count": 5,
   "id": "ddef1c8d",
   "metadata": {},
   "outputs": [],
   "source": [
    "project.set_source(source=source,pull_at_runtime=True)"
   ]
  },
  {
   "cell_type": "markdown",
   "id": "2d19e9c8",
   "metadata": {},
   "source": [
    "Run a MLRun job if needed you can use the project.build_function for building a new image with specials requirments "
   ]
  },
  {
   "cell_type": "code",
   "execution_count": 6,
   "id": "e5b2d18b",
   "metadata": {},
   "outputs": [
    {
     "name": "stdout",
     "output_type": "stream",
     "text": [
      "> 2022-07-24 13:34:43,823 [info] starting run my_job-func uid=842765f822fe4c5ca6deee92dd043563 DB=http://mlrun-api:8080\n",
      "> 2022-07-24 13:34:44,040 [info] Job is running in the background, pod: my-job-func-r96kn\n",
      "> 2022-07-24 13:34:48,121 [info] extracting source from git://github.com/GiladShapira94/load-project-example.git#master to /mlrun/code\n",
      "24\n",
      "> 2022-07-24 13:34:48,246 [info] run executed, status=completed\n",
      "final state: completed\n"
     ]
    },
    {
     "data": {
      "text/html": [
       "<style>\n",
       ".dictlist {\n",
       "  background-color: #4EC64B;\n",
       "  text-align: center;\n",
       "  margin: 4px;\n",
       "  border-radius: 3px; padding: 0px 3px 1px 3px; display: inline-block;}\n",
       ".artifact {\n",
       "  cursor: pointer;\n",
       "  background-color: #4EC64B;\n",
       "  text-align: left;\n",
       "  margin: 4px; border-radius: 3px; padding: 0px 3px 1px 3px; display: inline-block;\n",
       "}\n",
       "div.block.hidden {\n",
       "  display: none;\n",
       "}\n",
       ".clickable {\n",
       "  cursor: pointer;\n",
       "}\n",
       ".ellipsis {\n",
       "  display: inline-block;\n",
       "  max-width: 60px;\n",
       "  white-space: nowrap;\n",
       "  overflow: hidden;\n",
       "  text-overflow: ellipsis;\n",
       "}\n",
       ".master-wrapper {\n",
       "  display: flex;\n",
       "  flex-flow: row nowrap;\n",
       "  justify-content: flex-start;\n",
       "  align-items: stretch;\n",
       "}\n",
       ".master-tbl {\n",
       "  flex: 3\n",
       "}\n",
       ".master-wrapper > div {\n",
       "  margin: 4px;\n",
       "  padding: 10px;\n",
       "}\n",
       "iframe.fileview {\n",
       "  border: 0 none;\n",
       "  height: 100%;\n",
       "  width: 100%;\n",
       "  white-space: pre-wrap;\n",
       "}\n",
       ".pane-header-title {\n",
       "  width: 80%;\n",
       "  font-weight: 500;\n",
       "}\n",
       ".pane-header {\n",
       "  line-height: 1;\n",
       "  background-color: #4EC64B;\n",
       "  padding: 3px;\n",
       "}\n",
       ".pane-header .close {\n",
       "  font-size: 20px;\n",
       "  font-weight: 700;\n",
       "  float: right;\n",
       "  margin-top: -5px;\n",
       "}\n",
       ".master-wrapper .right-pane {\n",
       "  border: 1px inset silver;\n",
       "  width: 40%;\n",
       "  min-height: 300px;\n",
       "  flex: 3\n",
       "  min-width: 500px;\n",
       "}\n",
       ".master-wrapper * {\n",
       "  box-sizing: border-box;\n",
       "}\n",
       "</style><script>\n",
       "function copyToClipboard(fld) {\n",
       "    if (document.queryCommandSupported && document.queryCommandSupported('copy')) {\n",
       "        var textarea = document.createElement('textarea');\n",
       "        textarea.textContent = fld.innerHTML;\n",
       "        textarea.style.position = 'fixed';\n",
       "        document.body.appendChild(textarea);\n",
       "        textarea.select();\n",
       "\n",
       "        try {\n",
       "            return document.execCommand('copy'); // Security exception may be thrown by some browsers.\n",
       "        } catch (ex) {\n",
       "\n",
       "        } finally {\n",
       "            document.body.removeChild(textarea);\n",
       "        }\n",
       "    }\n",
       "}\n",
       "function expandPanel(el) {\n",
       "  const panelName = \"#\" + el.getAttribute('paneName');\n",
       "  console.log(el.title);\n",
       "\n",
       "  document.querySelector(panelName + \"-title\").innerHTML = el.title\n",
       "  iframe = document.querySelector(panelName + \"-body\");\n",
       "\n",
       "  const tblcss = `<style> body { font-family: Arial, Helvetica, sans-serif;}\n",
       "    #csv { margin-bottom: 15px; }\n",
       "    #csv table { border-collapse: collapse;}\n",
       "    #csv table td { padding: 4px 8px; border: 1px solid silver;} </style>`;\n",
       "\n",
       "  function csvToHtmlTable(str) {\n",
       "    return '<div id=\"csv\"><table><tr><td>' +  str.replace(/[\\n\\r]+$/g, '').replace(/[\\n\\r]+/g, '</td></tr><tr><td>')\n",
       "      .replace(/,/g, '</td><td>') + '</td></tr></table></div>';\n",
       "  }\n",
       "\n",
       "  function reqListener () {\n",
       "    if (el.title.endsWith(\".csv\")) {\n",
       "      iframe.setAttribute(\"srcdoc\", tblcss + csvToHtmlTable(this.responseText));\n",
       "    } else {\n",
       "      iframe.setAttribute(\"srcdoc\", this.responseText);\n",
       "    }\n",
       "    console.log(this.responseText);\n",
       "  }\n",
       "\n",
       "  const oReq = new XMLHttpRequest();\n",
       "  oReq.addEventListener(\"load\", reqListener);\n",
       "  oReq.open(\"GET\", el.title);\n",
       "  oReq.send();\n",
       "\n",
       "\n",
       "  //iframe.src = el.title;\n",
       "  const resultPane = document.querySelector(panelName + \"-pane\");\n",
       "  if (resultPane.classList.contains(\"hidden\")) {\n",
       "    resultPane.classList.remove(\"hidden\");\n",
       "  }\n",
       "}\n",
       "function closePanel(el) {\n",
       "  const panelName = \"#\" + el.getAttribute('paneName')\n",
       "  const resultPane = document.querySelector(panelName + \"-pane\");\n",
       "  if (!resultPane.classList.contains(\"hidden\")) {\n",
       "    resultPane.classList.add(\"hidden\");\n",
       "  }\n",
       "}\n",
       "\n",
       "</script>\n",
       "<div class=\"master-wrapper\">\n",
       "  <div class=\"block master-tbl\"><div>\n",
       "<style scoped>\n",
       "    .dataframe tbody tr th:only-of-type {\n",
       "        vertical-align: middle;\n",
       "    }\n",
       "\n",
       "    .dataframe tbody tr th {\n",
       "        vertical-align: top;\n",
       "    }\n",
       "\n",
       "    .dataframe thead th {\n",
       "        text-align: right;\n",
       "    }\n",
       "</style>\n",
       "<table border=\"1\" class=\"dataframe\">\n",
       "  <thead>\n",
       "    <tr style=\"text-align: right;\">\n",
       "      <th>project</th>\n",
       "      <th>uid</th>\n",
       "      <th>iter</th>\n",
       "      <th>start</th>\n",
       "      <th>state</th>\n",
       "      <th>name</th>\n",
       "      <th>labels</th>\n",
       "      <th>inputs</th>\n",
       "      <th>parameters</th>\n",
       "      <th>results</th>\n",
       "      <th>artifacts</th>\n",
       "    </tr>\n",
       "  </thead>\n",
       "  <tbody>\n",
       "    <tr>\n",
       "      <td>from-git</td>\n",
       "      <td><div title=\"842765f822fe4c5ca6deee92dd043563\"><a href=\"https://dashboard.default-tenant.app.cust-cs-il-3-4-1.iguazio-cd1.com/mlprojects/from-git/jobs/monitor/842765f822fe4c5ca6deee92dd043563/overview\" target=\"_blank\" >...dd043563</a></div></td>\n",
       "      <td>0</td>\n",
       "      <td>Jul 24 13:34:48</td>\n",
       "      <td>completed</td>\n",
       "      <td>my_job-func</td>\n",
       "      <td><div class=\"dictlist\">v3io_user=gilad</div><div class=\"dictlist\">kind=job</div><div class=\"dictlist\">owner=gilad</div><div class=\"dictlist\">mlrun/client_version=1.1.0-rc12</div><div class=\"dictlist\">host=my-job-func-r96kn</div></td>\n",
       "      <td></td>\n",
       "      <td><div class=\"dictlist\">num=3</div></td>\n",
       "      <td><div class=\"dictlist\">num=24</div><div class=\"dictlist\">return=24</div></td>\n",
       "      <td></td>\n",
       "    </tr>\n",
       "  </tbody>\n",
       "</table>\n",
       "</div></div>\n",
       "  <div id=\"result5ae0bf8d-pane\" class=\"right-pane block hidden\">\n",
       "    <div class=\"pane-header\">\n",
       "      <span id=\"result5ae0bf8d-title\" class=\"pane-header-title\">Title</span>\n",
       "      <span onclick=\"closePanel(this)\" paneName=\"result5ae0bf8d\" class=\"close clickable\">&times;</span>\n",
       "    </div>\n",
       "    <iframe class=\"fileview\" id=\"result5ae0bf8d-body\"></iframe>\n",
       "  </div>\n",
       "</div>\n"
      ],
      "text/plain": [
       "<IPython.core.display.HTML object>"
      ]
     },
     "metadata": {},
     "output_type": "display_data"
    },
    {
     "name": "stdout",
     "output_type": "stream",
     "text": [
      "\n"
     ]
    },
    {
     "data": {
      "text/html": [
       "<b> > to track results use the .show() or .logs() methods  or <a href=\"https://dashboard.default-tenant.app.cust-cs-il-3-4-1.iguazio-cd1.com/mlprojects/from-git/jobs/monitor/842765f822fe4c5ca6deee92dd043563/overview\" target=\"_blank\">click here</a> to open in UI</b>"
      ],
      "text/plain": [
       "<IPython.core.display.HTML object>"
      ]
     },
     "metadata": {},
     "output_type": "display_data"
    },
    {
     "name": "stdout",
     "output_type": "stream",
     "text": [
      "> 2022-07-24 13:34:50,429 [info] run executed, status=completed\n"
     ]
    },
    {
     "data": {
      "text/plain": [
       "<mlrun.model.RunObject at 0x7fccb045fdd0>"
      ]
     },
     "execution_count": 6,
     "metadata": {},
     "output_type": "execute_result"
    }
   ],
   "source": [
    "project.run_function(function='my_job',params={'num':3})"
   ]
  },
  {
   "cell_type": "markdown",
   "id": "e6b6074f",
   "metadata": {},
   "source": [
    "Changed pull_at_runtime to False for pull files on image creation"
   ]
  },
  {
   "cell_type": "code",
   "execution_count": 12,
   "id": "9fc11d23",
   "metadata": {},
   "outputs": [
    {
     "name": "stdout",
     "output_type": "stream",
     "text": [
      "kind: project\n",
      "metadata:\n",
      "  name: from-git\n",
      "spec:\n",
      "  functions:\n",
      "  - name: nuclio\n",
      "    kind: nuclio\n",
      "    image: mlrun/mlrun\n",
      "    handler: multi:multi_3\n",
      "    with_repo: true\n",
      "  - name: my_job\n",
      "    kind: job\n",
      "    image: mlrun/mlrun\n",
      "    handler: my_job.func\n",
      "    with_repo: true\n",
      "  - url: serving.yaml\n",
      "    name: serving\n",
      "    with_repo: true\n",
      "  workflows: []\n",
      "  artifacts: []\n",
      "  source: git://github.com/GiladShapira94/load-project-example.git#master\n",
      "  load_source_on_run: false\n",
      "  desired_state: online\n",
      "\n"
     ]
    }
   ],
   "source": [
    "project.set_source(source=source)\n",
    "print(project.to_yaml())"
   ]
  },
  {
   "cell_type": "markdown",
   "id": "bcb4417d",
   "metadata": {},
   "source": [
    "Deploy Serving function"
   ]
  },
  {
   "cell_type": "code",
   "execution_count": 13,
   "id": "367e3061",
   "metadata": {},
   "outputs": [
    {
     "name": "stdout",
     "output_type": "stream",
     "text": [
      "> 2022-07-24 14:02:57,684 [info] Starting remote function deploy\n",
      "2022-07-24 14:03:13  (info) Deploying function\n",
      "2022-07-24 14:03:13  (info) Building\n",
      "2022-07-24 14:03:13  (info) Staging files and preparing base images\n",
      "2022-07-24 14:03:13  (info) Building processor image\n",
      "2022-07-24 14:04:59  (info) Build complete\n",
      "2022-07-24 14:05:07  (info) Function deploy complete\n",
      "> 2022-07-24 14:05:07,901 [info] successfully deployed function: {'internal_invocation_urls': ['nuclio-from-git-serving.default-tenant.svc.cluster.local:8080'], 'external_invocation_urls': ['from-git-serving-from-git.default-tenant.app.cust-cs-il-3-4-1.iguazio-cd1.com/']}\n"
     ]
    }
   ],
   "source": [
    "serving_func=project.deploy_function('serving')"
   ]
  },
  {
   "cell_type": "code",
   "execution_count": 14,
   "id": "44005631",
   "metadata": {},
   "outputs": [
    {
     "name": "stdout",
     "output_type": "stream",
     "text": [
      "> 2022-07-24 14:05:07,972 [info] invoking function: {'method': 'POST', 'path': 'http://nuclio-from-git-serving.default-tenant.svc.cluster.local:8080/'}\n"
     ]
    },
    {
     "data": {
      "text/plain": [
       "13"
      ]
     },
     "execution_count": 14,
     "metadata": {},
     "output_type": "execute_result"
    }
   ],
   "source": [
    "serving_func.function.invoke('/',5)"
   ]
  },
  {
   "cell_type": "markdown",
   "id": "b7bdafa2",
   "metadata": {},
   "source": [
    "You can execute functions locally for test and debug, just turn on the local=True flag - > you must have the fucntion file in the local repository "
   ]
  },
  {
   "cell_type": "markdown",
   "id": "0350cf49",
   "metadata": {},
   "source": [
    "Deploy nuclio function"
   ]
  },
  {
   "cell_type": "code",
   "execution_count": 15,
   "id": "f2d65f3c",
   "metadata": {},
   "outputs": [
    {
     "name": "stdout",
     "output_type": "stream",
     "text": [
      "> 2022-07-24 14:05:08,021 [info] Starting remote function deploy\n",
      "2022-07-24 14:05:08  (info) Deploying function\n",
      "2022-07-24 14:05:08  (info) Building\n",
      "2022-07-24 14:05:08  (info) Staging files and preparing base images\n",
      "2022-07-24 14:05:08  (info) Building processor image\n",
      "2022-07-24 14:06:04  (info) Build complete\n",
      "2022-07-24 14:06:12  (info) Function deploy complete\n",
      "> 2022-07-24 14:06:12,748 [info] successfully deployed function: {'internal_invocation_urls': ['nuclio-from-git-nuclio.default-tenant.svc.cluster.local:8080'], 'external_invocation_urls': ['from-git-nuclio-from-git.default-tenant.app.cust-cs-il-3-4-1.iguazio-cd1.com/']}\n"
     ]
    }
   ],
   "source": [
    "# project.spec.origin_url='git://github.com/GiladShapira94/load-project-example.git#refs/heads/master'\n",
    "nuclio_func=project.deploy_function(function='nuclio')"
   ]
  },
  {
   "cell_type": "code",
   "execution_count": 16,
   "id": "09528dd2",
   "metadata": {},
   "outputs": [
    {
     "name": "stdout",
     "output_type": "stream",
     "text": [
      "> 2022-07-24 14:06:12,877 [info] invoking function: {'method': 'POST', 'path': 'http://nuclio-from-git-nuclio.default-tenant.svc.cluster.local:8080/'}\n"
     ]
    },
    {
     "data": {
      "text/plain": [
       "{'int': 12}"
      ]
     },
     "execution_count": 16,
     "metadata": {},
     "output_type": "execute_result"
    }
   ],
   "source": [
    "nuclio_func.function.invoke('/',{'int':4})"
   ]
  },
  {
   "cell_type": "code",
   "execution_count": null,
   "id": "79c0c277",
   "metadata": {},
   "outputs": [],
   "source": []
  }
 ],
 "metadata": {
  "kernelspec": {
   "display_name": "Python 3",
   "language": "python",
   "name": "python3"
  },
  "language_info": {
   "codemirror_mode": {
    "name": "ipython",
    "version": 3
   },
   "file_extension": ".py",
   "mimetype": "text/x-python",
   "name": "python",
   "nbconvert_exporter": "python",
   "pygments_lexer": "ipython3",
   "version": "3.7.6"
  }
 },
 "nbformat": 4,
 "nbformat_minor": 5
}
