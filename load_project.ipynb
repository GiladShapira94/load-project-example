{
 "cells": [
  {
   "cell_type": "markdown",
   "id": "1e042c0e",
   "metadata": {},
   "source": [
    "# Load project YAML from - Git, Zip, Tar source"
   ]
  },
  {
   "cell_type": "markdown",
   "id": "3a7206f3",
   "metadata": {},
   "source": [
    "After you create your project YAML you can simply load that project and run, build and deploy your function .\n",
    "You can found an addional information of how to create a project YAML for CI/CD [here](https://github.com/GiladShapira94/load-project-example/blob/master/CI-CD%20automation%20creation.md)"
   ]
  },
  {
   "cell_type": "markdown",
   "id": "ed749b63",
   "metadata": {},
   "source": [
    "In this session you would learn how to:\n",
    "* Load or Create a new project for remote URL\n",
    "* get a function object \n",
    "* run a function\n",
    "* build a function\n",
    "* deploy a function\n",
    "* run a workflow"
   ]
  },
  {
   "cell_type": "markdown",
   "id": "72b6382e",
   "metadata": {},
   "source": [
    "Load a Project from exicting project YAML, you can clone you entire repository from git and use the project YAML in your repository using the url parameter"
   ]
  },
  {
   "cell_type": "markdown",
   "id": "3280c23e",
   "metadata": {},
   "source": [
    "Install mlrun - if does not install use ``pip install mlrun==<mlrun server version>`` or ``sh align_mlrun.sh`` (our default mlrun installer - automatically install the server version)"
   ]
  },
  {
   "cell_type": "code",
   "execution_count": 1,
   "id": "cb362da0",
   "metadata": {},
   "outputs": [],
   "source": [
    "import mlrun"
   ]
  },
  {
   "cell_type": "markdown",
   "id": "05c835ac",
   "metadata": {},
   "source": [
    "#### Load or Create a new project\n",
    "For loading a project you can use :\n",
    "1. [load_project](https://docs.mlrun.org/en/latest/api/mlrun.projects.html?highlight=load_project#mlrun.projects.load_project) thats Load an MLRun project from git or tar or dir \n",
    "````\n",
    "# load the project and run the 'main' workflow\n",
    "project = load_project(\"./\", \"git://github.com/mlrun/project-demo.git\",url=<name (in DB) or git or tar.gz or .zip sources archive path>)\n",
    "````\n",
    "2. [new_project](https://docs.mlrun.org/en/latest/api/mlrun.projects.html?highlight=new_project#mlrun.projects.new_project) thats Create a new MLRun project, optionally load it from a yaml/zip/git template.\n",
    "````\n",
    "# create a project with local and marketplace functions, a workflow, and an artifact\n",
    "project = mlrun.new_project(\"myproj\", \"./\", init_git=True, description=\"my new project\",url=<name (in DB) or git or tar.gz or .zip sources archive path>)\n",
    "````\n",
    "***Important Note-*** If you want to run your code locally you must clone the files to the context directory, execute automaticlly when you load project or create new project and define a url params\n"
   ]
  },
  {
   "cell_type": "code",
   "execution_count": 2,
   "id": "337a9367",
   "metadata": {},
   "outputs": [],
   "source": [
    "project = mlrun.load_project('./')"
   ]
  },
  {
   "cell_type": "code",
   "execution_count": 3,
   "id": "955bd099",
   "metadata": {},
   "outputs": [
    {
     "name": "stdout",
     "output_type": "stream",
     "text": [
      "kind: project\n",
      "metadata:\n",
      "  name: new-git-proj\n",
      "spec:\n",
      "  functions:\n",
      "  - name: nuclio\n",
      "    kind: nuclio\n",
      "    image: mlrun/mlrun\n",
      "    handler: multi:multi_3\n",
      "    with_repo: true\n",
      "  - name: my_job\n",
      "    kind: job\n",
      "    image: mlrun/mlrun\n",
      "    handler: my_job.func\n",
      "    with_repo: true\n",
      "  - name: my_job_with_requirements\n",
      "    kind: job\n",
      "    image: mlrun/mlrun\n",
      "    handler: my_job_with_requirements.log_df\n",
      "    with_repo: true\n",
      "    requirements:\n",
      "    - pandas\n",
      "  - url: serving.yaml\n",
      "    name: serving\n",
      "    with_repo: true\n",
      "  workflows: []\n",
      "  artifacts: []\n",
      "  source: git://github.com/GiladShapira94/load-project-example.git#refs/heads/master\n",
      "  origin_url: git://github.com/GiladShapira94/load-project-example.git#refs/heads/master\n",
      "  load_source_on_run: true\n",
      "  desired_state: online\n",
      "\n"
     ]
    }
   ],
   "source": [
    "print(project.to_yaml())"
   ]
  },
  {
   "cell_type": "markdown",
   "id": "90dba3a1",
   "metadata": {},
   "source": [
    "The source define your source code this source need to include all your project files  - MLRun knows to point to the files in the source address and run the functions based on the source files"
   ]
  },
  {
   "cell_type": "code",
   "execution_count": 4,
   "id": "1fb3447a",
   "metadata": {},
   "outputs": [],
   "source": [
    "source = 'git://github.com/GiladShapira94/load-project-example.git#master'"
   ]
  },
  {
   "cell_type": "markdown",
   "id": "71d82f2d",
   "metadata": {},
   "source": [
    "The pull_at_runtime flag will determine if the code is loaded in runtime or added to the image during build. the first (at runtime) option is better for debugging while the secound is better for production. Note that if you choose the 2nd option you'll need to build the function before run."
   ]
  },
  {
   "cell_type": "code",
   "execution_count": 5,
   "id": "2457fc79",
   "metadata": {},
   "outputs": [],
   "source": [
    "project.set_source(source=source,pull_at_runtime=True)"
   ]
  },
  {
   "cell_type": "markdown",
   "id": "c4213668",
   "metadata": {},
   "source": [
    "#### Run Function \n",
    "For run a function you will need to use the [run_function](https://docs.mlrun.org/en/latest/api/mlrun.projects.html?highlight=run_function#mlrun.projects.MlrunProject.run_function) method.\n",
    "This method allows you to run a MLRun **jobs** locally and remotely as long as there is no requirments ( if there is any requirments you will need to build a new image before you run a function)\n",
    "It is equivalent to func.run method.\n",
    "````\n",
    "project.run_function(function='<function name>',params={'num':3},local=False)\n",
    "````\n",
    "````\n",
    "project.run_function(function='<function name>',params={'num':3},local=True)\n",
    "````"
   ]
  },
  {
   "cell_type": "code",
   "execution_count": 6,
   "id": "ed6cc056",
   "metadata": {},
   "outputs": [
    {
     "name": "stdout",
     "output_type": "stream",
     "text": [
      "> 2022-08-03 11:16:34,492 [info] starting run my_job-func uid=7c71dbbd4c2a4fa880f97eb3fc79bdfd DB=http://mlrun-api:8080\n",
      "> 2022-08-03 11:16:34,777 [info] Job is running in the background, pod: my-job-func-q8rg7\n",
      "> 2022-08-03 11:16:38,911 [info] extracting source from git://github.com/GiladShapira94/load-project-example.git#master to /mlrun/code\n",
      "24\n",
      "> 2022-08-03 11:16:39,067 [info] run executed, status=completed\n",
      "final state: completed\n"
     ]
    },
    {
     "data": {
      "text/html": [
       "<style>\n",
       ".dictlist {\n",
       "  background-color: #4EC64B;\n",
       "  text-align: center;\n",
       "  margin: 4px;\n",
       "  border-radius: 3px; padding: 0px 3px 1px 3px; display: inline-block;}\n",
       ".artifact {\n",
       "  cursor: pointer;\n",
       "  background-color: #4EC64B;\n",
       "  text-align: left;\n",
       "  margin: 4px; border-radius: 3px; padding: 0px 3px 1px 3px; display: inline-block;\n",
       "}\n",
       "div.block.hidden {\n",
       "  display: none;\n",
       "}\n",
       ".clickable {\n",
       "  cursor: pointer;\n",
       "}\n",
       ".ellipsis {\n",
       "  display: inline-block;\n",
       "  max-width: 60px;\n",
       "  white-space: nowrap;\n",
       "  overflow: hidden;\n",
       "  text-overflow: ellipsis;\n",
       "}\n",
       ".master-wrapper {\n",
       "  display: flex;\n",
       "  flex-flow: row nowrap;\n",
       "  justify-content: flex-start;\n",
       "  align-items: stretch;\n",
       "}\n",
       ".master-tbl {\n",
       "  flex: 3\n",
       "}\n",
       ".master-wrapper > div {\n",
       "  margin: 4px;\n",
       "  padding: 10px;\n",
       "}\n",
       "iframe.fileview {\n",
       "  border: 0 none;\n",
       "  height: 100%;\n",
       "  width: 100%;\n",
       "  white-space: pre-wrap;\n",
       "}\n",
       ".pane-header-title {\n",
       "  width: 80%;\n",
       "  font-weight: 500;\n",
       "}\n",
       ".pane-header {\n",
       "  line-height: 1;\n",
       "  background-color: #4EC64B;\n",
       "  padding: 3px;\n",
       "}\n",
       ".pane-header .close {\n",
       "  font-size: 20px;\n",
       "  font-weight: 700;\n",
       "  float: right;\n",
       "  margin-top: -5px;\n",
       "}\n",
       ".master-wrapper .right-pane {\n",
       "  border: 1px inset silver;\n",
       "  width: 40%;\n",
       "  min-height: 300px;\n",
       "  flex: 3\n",
       "  min-width: 500px;\n",
       "}\n",
       ".master-wrapper * {\n",
       "  box-sizing: border-box;\n",
       "}\n",
       "</style><script>\n",
       "function copyToClipboard(fld) {\n",
       "    if (document.queryCommandSupported && document.queryCommandSupported('copy')) {\n",
       "        var textarea = document.createElement('textarea');\n",
       "        textarea.textContent = fld.innerHTML;\n",
       "        textarea.style.position = 'fixed';\n",
       "        document.body.appendChild(textarea);\n",
       "        textarea.select();\n",
       "\n",
       "        try {\n",
       "            return document.execCommand('copy'); // Security exception may be thrown by some browsers.\n",
       "        } catch (ex) {\n",
       "\n",
       "        } finally {\n",
       "            document.body.removeChild(textarea);\n",
       "        }\n",
       "    }\n",
       "}\n",
       "function expandPanel(el) {\n",
       "  const panelName = \"#\" + el.getAttribute('paneName');\n",
       "  console.log(el.title);\n",
       "\n",
       "  document.querySelector(panelName + \"-title\").innerHTML = el.title\n",
       "  iframe = document.querySelector(panelName + \"-body\");\n",
       "\n",
       "  const tblcss = `<style> body { font-family: Arial, Helvetica, sans-serif;}\n",
       "    #csv { margin-bottom: 15px; }\n",
       "    #csv table { border-collapse: collapse;}\n",
       "    #csv table td { padding: 4px 8px; border: 1px solid silver;} </style>`;\n",
       "\n",
       "  function csvToHtmlTable(str) {\n",
       "    return '<div id=\"csv\"><table><tr><td>' +  str.replace(/[\\n\\r]+$/g, '').replace(/[\\n\\r]+/g, '</td></tr><tr><td>')\n",
       "      .replace(/,/g, '</td><td>') + '</td></tr></table></div>';\n",
       "  }\n",
       "\n",
       "  function reqListener () {\n",
       "    if (el.title.endsWith(\".csv\")) {\n",
       "      iframe.setAttribute(\"srcdoc\", tblcss + csvToHtmlTable(this.responseText));\n",
       "    } else {\n",
       "      iframe.setAttribute(\"srcdoc\", this.responseText);\n",
       "    }\n",
       "    console.log(this.responseText);\n",
       "  }\n",
       "\n",
       "  const oReq = new XMLHttpRequest();\n",
       "  oReq.addEventListener(\"load\", reqListener);\n",
       "  oReq.open(\"GET\", el.title);\n",
       "  oReq.send();\n",
       "\n",
       "\n",
       "  //iframe.src = el.title;\n",
       "  const resultPane = document.querySelector(panelName + \"-pane\");\n",
       "  if (resultPane.classList.contains(\"hidden\")) {\n",
       "    resultPane.classList.remove(\"hidden\");\n",
       "  }\n",
       "}\n",
       "function closePanel(el) {\n",
       "  const panelName = \"#\" + el.getAttribute('paneName')\n",
       "  const resultPane = document.querySelector(panelName + \"-pane\");\n",
       "  if (!resultPane.classList.contains(\"hidden\")) {\n",
       "    resultPane.classList.add(\"hidden\");\n",
       "  }\n",
       "}\n",
       "\n",
       "</script>\n",
       "<div class=\"master-wrapper\">\n",
       "  <div class=\"block master-tbl\"><div>\n",
       "<style scoped>\n",
       "    .dataframe tbody tr th:only-of-type {\n",
       "        vertical-align: middle;\n",
       "    }\n",
       "\n",
       "    .dataframe tbody tr th {\n",
       "        vertical-align: top;\n",
       "    }\n",
       "\n",
       "    .dataframe thead th {\n",
       "        text-align: right;\n",
       "    }\n",
       "</style>\n",
       "<table border=\"1\" class=\"dataframe\">\n",
       "  <thead>\n",
       "    <tr style=\"text-align: right;\">\n",
       "      <th>project</th>\n",
       "      <th>uid</th>\n",
       "      <th>iter</th>\n",
       "      <th>start</th>\n",
       "      <th>state</th>\n",
       "      <th>name</th>\n",
       "      <th>labels</th>\n",
       "      <th>inputs</th>\n",
       "      <th>parameters</th>\n",
       "      <th>results</th>\n",
       "      <th>artifacts</th>\n",
       "    </tr>\n",
       "  </thead>\n",
       "  <tbody>\n",
       "    <tr>\n",
       "      <td>new-git-proj</td>\n",
       "      <td><div title=\"7c71dbbd4c2a4fa880f97eb3fc79bdfd\"><a href=\"https://dashboard.default-tenant.app.cust-cs-il-3-4-1.iguazio-cd1.com/mlprojects/new-git-proj/jobs/monitor/7c71dbbd4c2a4fa880f97eb3fc79bdfd/overview\" target=\"_blank\" >...fc79bdfd</a></div></td>\n",
       "      <td>0</td>\n",
       "      <td>Aug 03 11:16:38</td>\n",
       "      <td>completed</td>\n",
       "      <td>my_job-func</td>\n",
       "      <td><div class=\"dictlist\">v3io_user=shapira</div><div class=\"dictlist\">kind=job</div><div class=\"dictlist\">owner=shapira</div><div class=\"dictlist\">mlrun/client_version=1.1.0-rc12</div><div class=\"dictlist\">host=my-job-func-q8rg7</div></td>\n",
       "      <td></td>\n",
       "      <td><div class=\"dictlist\">num=3</div></td>\n",
       "      <td><div class=\"dictlist\">num=24</div><div class=\"dictlist\">return=24</div></td>\n",
       "      <td></td>\n",
       "    </tr>\n",
       "  </tbody>\n",
       "</table>\n",
       "</div></div>\n",
       "  <div id=\"resulte42bc2ff-pane\" class=\"right-pane block hidden\">\n",
       "    <div class=\"pane-header\">\n",
       "      <span id=\"resulte42bc2ff-title\" class=\"pane-header-title\">Title</span>\n",
       "      <span onclick=\"closePanel(this)\" paneName=\"resulte42bc2ff\" class=\"close clickable\">&times;</span>\n",
       "    </div>\n",
       "    <iframe class=\"fileview\" id=\"resulte42bc2ff-body\"></iframe>\n",
       "  </div>\n",
       "</div>\n"
      ],
      "text/plain": [
       "<IPython.core.display.HTML object>"
      ]
     },
     "metadata": {},
     "output_type": "display_data"
    },
    {
     "name": "stdout",
     "output_type": "stream",
     "text": [
      "\n"
     ]
    },
    {
     "data": {
      "text/html": [
       "<b> > to track results use the .show() or .logs() methods  or <a href=\"https://dashboard.default-tenant.app.cust-cs-il-3-4-1.iguazio-cd1.com/mlprojects/new-git-proj/jobs/monitor/7c71dbbd4c2a4fa880f97eb3fc79bdfd/overview\" target=\"_blank\">click here</a> to open in UI</b>"
      ],
      "text/plain": [
       "<IPython.core.display.HTML object>"
      ]
     },
     "metadata": {},
     "output_type": "display_data"
    },
    {
     "name": "stdout",
     "output_type": "stream",
     "text": [
      "> 2022-08-03 11:16:41,307 [info] run executed, status=completed\n"
     ]
    },
    {
     "data": {
      "text/plain": [
       "<mlrun.model.RunObject at 0x7f2c75c5e150>"
      ]
     },
     "execution_count": 6,
     "metadata": {},
     "output_type": "execute_result"
    }
   ],
   "source": [
    "project.run_function(function='my_job',params={'num':3})"
   ]
  },
  {
   "cell_type": "markdown",
   "id": "cee4bf0f",
   "metadata": {},
   "source": [
    "**Changed pull_at_runtime to False for pull files on image creation**"
   ]
  },
  {
   "cell_type": "code",
   "execution_count": 7,
   "id": "8e825778",
   "metadata": {},
   "outputs": [
    {
     "name": "stdout",
     "output_type": "stream",
     "text": [
      "kind: project\n",
      "metadata:\n",
      "  name: new-git-proj\n",
      "spec:\n",
      "  functions:\n",
      "  - name: nuclio\n",
      "    kind: nuclio\n",
      "    image: mlrun/mlrun\n",
      "    handler: multi:multi_3\n",
      "    with_repo: true\n",
      "  - name: my_job\n",
      "    kind: job\n",
      "    image: mlrun/mlrun\n",
      "    handler: my_job.func\n",
      "    with_repo: true\n",
      "  - name: my_job_with_requirements\n",
      "    kind: job\n",
      "    image: mlrun/mlrun\n",
      "    handler: my_job_with_requirements.log_df\n",
      "    with_repo: true\n",
      "    requirements:\n",
      "    - pandas\n",
      "  - url: serving.yaml\n",
      "    name: serving\n",
      "    with_repo: true\n",
      "  workflows: []\n",
      "  artifacts: []\n",
      "  source: git://github.com/GiladShapira94/load-project-example.git#master\n",
      "  origin_url: git://github.com/GiladShapira94/load-project-example.git#refs/heads/master\n",
      "  load_source_on_run: false\n",
      "  desired_state: online\n",
      "\n"
     ]
    }
   ],
   "source": [
    "project.set_source(source=source)\n",
    "print(project.to_yaml())"
   ]
  },
  {
   "cell_type": "markdown",
   "id": "fe16a474",
   "metadata": {},
   "source": [
    "#### Deploy Function\n",
    "For deplying remote function as nuclio or serving you will need to use the [deploy_function](https://docs.mlrun.org/en/latest/api/mlrun.projects.html?highlight=deploy_function#mlrun.projects.MlrunProject.deploy_function) method.\n",
    "You must use this method before invoke nuclio or serving fucntions.\n",
    "It is equivalent to func.deploy() method.\n",
    "````\n",
    "nuclio_func=project.deploy_function(function='<function name>')\n",
    "\n",
    "nuclio_func.function.invoke('/',{'int':4})\n",
    "````"
   ]
  },
  {
   "cell_type": "code",
   "execution_count": 8,
   "id": "c7b8a756",
   "metadata": {},
   "outputs": [
    {
     "name": "stdout",
     "output_type": "stream",
     "text": [
      "> 2022-08-03 11:16:41,476 [info] Starting remote function deploy\n",
      "2022-08-03 11:16:41  (info) Deploying function\n",
      "2022-08-03 11:16:41  (info) Building\n",
      "2022-08-03 11:16:41  (info) Staging files and preparing base images\n",
      "2022-08-03 11:16:42  (info) Building processor image\n",
      "2022-08-03 11:18:27  (info) Build complete\n",
      "2022-08-03 11:18:40  (info) Function deploy complete\n",
      "> 2022-08-03 11:18:41,194 [info] successfully deployed function: {'internal_invocation_urls': ['nuclio-new-git-proj-serving.default-tenant.svc.cluster.local:8080'], 'external_invocation_urls': ['new-git-proj-serving-new-git-proj.default-tenant.app.cust-cs-il-3-4-1.iguazio-cd1.com/']}\n"
     ]
    }
   ],
   "source": [
    "serving_func=project.deploy_function('serving')"
   ]
  },
  {
   "cell_type": "code",
   "execution_count": 9,
   "id": "e3b06edb",
   "metadata": {},
   "outputs": [
    {
     "name": "stdout",
     "output_type": "stream",
     "text": [
      "> 2022-08-03 11:18:41,286 [info] invoking function: {'method': 'POST', 'path': 'http://nuclio-new-git-proj-serving.default-tenant.svc.cluster.local:8080/'}\n"
     ]
    },
    {
     "data": {
      "text/plain": [
       "13"
      ]
     },
     "execution_count": 9,
     "metadata": {},
     "output_type": "execute_result"
    }
   ],
   "source": [
    "serving_func.function.invoke('/',5)"
   ]
  },
  {
   "cell_type": "code",
   "execution_count": 10,
   "id": "b1155bec",
   "metadata": {},
   "outputs": [
    {
     "name": "stdout",
     "output_type": "stream",
     "text": [
      "> 2022-08-03 11:18:41,328 [info] Starting remote function deploy\n",
      "2022-08-03 11:18:41  (info) Deploying function\n",
      "2022-08-03 11:18:41  (info) Building\n",
      "2022-08-03 11:18:41  (info) Staging files and preparing base images\n",
      "2022-08-03 11:18:41  (info) Building processor image\n",
      "2022-08-03 11:20:16  (info) Build complete\n",
      "2022-08-03 11:20:24  (info) Function deploy complete\n",
      "> 2022-08-03 11:20:25,895 [info] successfully deployed function: {'internal_invocation_urls': ['nuclio-new-git-proj-nuclio.default-tenant.svc.cluster.local:8080'], 'external_invocation_urls': ['new-git-proj-nuclio-new-git-proj.default-tenant.app.cust-cs-il-3-4-1.iguazio-cd1.com/']}\n"
     ]
    }
   ],
   "source": [
    "# project.spec.origin_url='git://github.com/GiladShapira94/load-project-example.git#refs/heads/master'\n",
    "nuclio_func=project.deploy_function(function='nuclio')"
   ]
  },
  {
   "cell_type": "code",
   "execution_count": 11,
   "id": "7d2b0da3",
   "metadata": {},
   "outputs": [
    {
     "name": "stdout",
     "output_type": "stream",
     "text": [
      "> 2022-08-03 11:20:25,980 [info] invoking function: {'method': 'POST', 'path': 'http://nuclio-new-git-proj-nuclio.default-tenant.svc.cluster.local:8080/'}\n"
     ]
    },
    {
     "data": {
      "text/plain": [
       "{'int': 12}"
      ]
     },
     "execution_count": 11,
     "metadata": {},
     "output_type": "execute_result"
    }
   ],
   "source": [
    "nuclio_func.function.invoke('/',{'int':4})"
   ]
  },
  {
   "cell_type": "code",
   "execution_count": null,
   "id": "a3cdbf4f",
   "metadata": {},
   "outputs": [],
   "source": []
  }
 ],
 "metadata": {
  "kernelspec": {
   "display_name": "Python 3",
   "language": "python",
   "name": "python3"
  },
  "language_info": {
   "codemirror_mode": {
    "name": "ipython",
    "version": 3
   },
   "file_extension": ".py",
   "mimetype": "text/x-python",
   "name": "python",
   "nbconvert_exporter": "python",
   "pygments_lexer": "ipython3",
   "version": "3.7.6"
  }
 },
 "nbformat": 4,
 "nbformat_minor": 5
}
